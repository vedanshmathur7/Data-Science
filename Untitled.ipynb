{
 "cells": [
  {
   "cell_type": "code",
   "execution_count": 1,
   "id": "083a572c-d293-4131-a321-e4824d47a934",
   "metadata": {},
   "outputs": [
    {
     "name": "stdout",
     "output_type": "stream",
     "text": [
      "rajesh\n"
     ]
    }
   ],
   "source": [
    "print ('rajesh')"
   ]
  },
  {
   "cell_type": "code",
   "execution_count": 3,
   "id": "a17626a2-84cc-4f11-9349-b2f2cebc0324",
   "metadata": {},
   "outputs": [],
   "source": [
    "!git config --global user.email \"vedanshmathur007@gmail.com\"\n",
    "!git config --global user.name \"vedanshmathur7\""
   ]
  },
  {
   "cell_type": "code",
   "execution_count": 4,
   "id": "c36c1da4-9fa2-4339-a753-2516dfd2c919",
   "metadata": {},
   "outputs": [
    {
     "name": "stderr",
     "output_type": "stream",
     "text": [
      "warning: in the working copy of '.ipynb_checkpoints/Untitled-checkpoint.ipynb', LF will be replaced by CRLF the next time Git touches it\n",
      "warning: in the working copy of 'Untitled.ipynb', LF will be replaced by CRLF the next time Git touches it\n"
     ]
    }
   ],
   "source": [
    "!git add ."
   ]
  },
  {
   "cell_type": "code",
   "execution_count": 5,
   "id": "4b2a2efc-9c5c-494a-b7eb-7acc60a66753",
   "metadata": {},
   "outputs": [
    {
     "name": "stdout",
     "output_type": "stream",
     "text": [
      "[main 7b588fd] initialising repo\n",
      " 2 files changed, 29 insertions(+)\n",
      " create mode 100644 .ipynb_checkpoints/Untitled-checkpoint.ipynb\n",
      " create mode 100644 Untitled.ipynb\n"
     ]
    }
   ],
   "source": [
    "!git commit -m \"initialising repo\""
   ]
  },
  {
   "cell_type": "code",
   "execution_count": null,
   "id": "f14ab428-277d-4fbe-a583-33d65faa96a0",
   "metadata": {},
   "outputs": [],
   "source": [
    "!git push"
   ]
  }
 ],
 "metadata": {
  "kernelspec": {
   "display_name": "Python 3 (ipykernel)",
   "language": "python",
   "name": "python3"
  },
  "language_info": {
   "codemirror_mode": {
    "name": "ipython",
    "version": 3
   },
   "file_extension": ".py",
   "mimetype": "text/x-python",
   "name": "python",
   "nbconvert_exporter": "python",
   "pygments_lexer": "ipython3",
   "version": "3.13.5"
  }
 },
 "nbformat": 4,
 "nbformat_minor": 5
}
