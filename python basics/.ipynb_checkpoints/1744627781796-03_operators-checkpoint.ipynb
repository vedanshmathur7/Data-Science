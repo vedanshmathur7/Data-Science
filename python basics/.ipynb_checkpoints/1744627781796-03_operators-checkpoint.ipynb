{
 "cells": [
  {
   "cell_type": "markdown",
   "id": "057b5364-ae1f-4e34-933d-dd2466d8cbf6",
   "metadata": {},
   "source": [
    "# Operators in Python\n",
    "\n",
    "## 1. Arithmetic Operators\n",
    "Used for basic mathematical operations.\n",
    "\n",
    "| Operator | Description  | Example (`a=10, b=5`) |\n",
    "|----------|-------------|-----------------------|\n",
    "| `+`      | Addition    | `a + b  # 15`        |\n",
    "| `-`      | Subtraction | `a - b  # 5`         |\n",
    "| `*`      | Multiplication | `a * b  # 50`     |\n",
    "| `/`      | Division    | `a / b  # 2.0`       |\n",
    "| `//`     | Floor Division | `a // b  # 2`    |\n",
    "| `%`      | Modulus     | `a % b  # 0`        |\n",
    "| `**`     | Exponentiation | `a ** b  # 100000` |\n",
    "\n",
    "## 2. Comparison Operators\n",
    "Compare values and return `True` or `False`.\n",
    "\n",
    "| Operator | Description  | Example (`a=10, b=5`) |\n",
    "|----------|-------------|-----------------------|\n",
    "| `==`     | Equal to    | `a == b  # False`    |\n",
    "| `!=`     | Not equal to | `a != b  # True`    |\n",
    "| `>`      | Greater than | `a > b  # True`     |\n",
    "| `<`      | Less than    | `a < b  # False`    |\n",
    "| `>=`     | Greater or equal | `a >= b  # True` |\n",
    "| `<=`     | Less or equal | `a <= b  # False` |\n",
    "\n",
    "## 3. Logical Operators\n",
    "Used to combine conditional statements.\n",
    "\n",
    "| Operator | Description | Example (`x=True, y=False`) |\n",
    "|----------|-------------|-----------------------------|\n",
    "| `and`    | Both True  | `x and y  # False`         |\n",
    "| `or`     | Either True | `x or y  # True`          |\n",
    "| `not`    | Negation   | `not x  # False`          |\n",
    "\n",
    "## 4. Bitwise Operators\n",
    "Perform bit-level operations.\n",
    "\n",
    "| Operator | Description | Example (`a=5, b=3`) |\n",
    "|----------|-------------|---------------------|\n",
    "| `&`      | AND        | `a & b  # 1`       |\n",
    "| `\\|`      | OR         | a `\\|` b  # 7       | \n",
    "\n",
    "## 5. Assignment Operators\n",
    "Used to assign values to variables.\n",
    "\n",
    "| Operator | Example (`a=10`) | Equivalent to |\n",
    "|----------|----------------|--------------|\n",
    "| `=`      | `a = 5`       | `a = 5`      |\n",
    "| `+=`     | `a += 5`      | `a = a + 5`  |\n",
    "| `-=`     | `a -= 5`      | `a = a - 5`  |\n",
    "| `*=`     | `a *= 5`      | `a = a * 5`  |\n",
    "| `/=`     | `a /= 5`      | `a = a / 5`  |\n",
    "| `//=`    | `a //= 5`     | `a = a // 5` |\n",
    "| `%=`     | `a %= 5`      | `a = a % 5`  |\n",
    "| `**=`    | `a **= 5`     | `a = a ** 5` |\n",
    "\n",
    "## 6. Membership & Identity Operators\n",
    "Check for presence and object identity.\n",
    "\n",
    "| Operator | Description  | Example (`lst=[1,2,3]`, `x=2`) |\n",
    "|----------|-------------|--------------------------------|\n",
    "| `in`     | Present in sequence | `x in lst  # True` |\n",
    "| `not in` | Not present | `x not in lst  # False` |\n",
    "| `is`     | Same object | `a is b  # False` |\n",
    "| `is not` | Different object | `a is not b  # True` |\n",
    "\n"
   ]
  },
  {
   "cell_type": "code",
   "execution_count": 7,
   "id": "7a29fd6c-e47a-4de1-bd84-c4e6ec87a133",
   "metadata": {},
   "outputs": [],
   "source": [
    "a = 11\n",
    "b = 5"
   ]
  },
  {
   "cell_type": "code",
   "execution_count": 8,
   "id": "813b2cc8-28eb-4d10-a44b-5381c7e24e02",
   "metadata": {},
   "outputs": [
    {
     "data": {
      "text/plain": [
       "16"
      ]
     },
     "execution_count": 8,
     "metadata": {},
     "output_type": "execute_result"
    }
   ],
   "source": [
    "a + b"
   ]
  },
  {
   "cell_type": "code",
   "execution_count": 9,
   "id": "ec64965f-e9d3-4be1-bd06-70afede7a2a4",
   "metadata": {},
   "outputs": [
    {
     "data": {
      "text/plain": [
       "6"
      ]
     },
     "execution_count": 9,
     "metadata": {},
     "output_type": "execute_result"
    }
   ],
   "source": [
    "a-b"
   ]
  },
  {
   "cell_type": "code",
   "execution_count": 10,
   "id": "8b0e1913-f178-4796-88db-6f6cbd52c96e",
   "metadata": {},
   "outputs": [
    {
     "data": {
      "text/plain": [
       "55"
      ]
     },
     "execution_count": 10,
     "metadata": {},
     "output_type": "execute_result"
    }
   ],
   "source": [
    "a *b"
   ]
  },
  {
   "cell_type": "code",
   "execution_count": 11,
   "id": "2804cce8-ad1e-4a94-aa56-a6d1620ea2b1",
   "metadata": {},
   "outputs": [
    {
     "data": {
      "text/plain": [
       "2.2"
      ]
     },
     "execution_count": 11,
     "metadata": {},
     "output_type": "execute_result"
    }
   ],
   "source": [
    "a/b"
   ]
  },
  {
   "cell_type": "code",
   "execution_count": 44,
   "id": "631d6dbb-7b57-4782-9a4e-042f9a33d37d",
   "metadata": {},
   "outputs": [
    {
     "data": {
      "text/plain": [
       "7"
      ]
     },
     "execution_count": 44,
     "metadata": {},
     "output_type": "execute_result"
    }
   ],
   "source": [
    "a//b"
   ]
  },
  {
   "cell_type": "code",
   "execution_count": 13,
   "id": "488deab3-e7dc-4cfa-a5bc-c79543fa957c",
   "metadata": {},
   "outputs": [
    {
     "data": {
      "text/plain": [
       "4"
      ]
     },
     "execution_count": 13,
     "metadata": {},
     "output_type": "execute_result"
    }
   ],
   "source": [
    "2**2"
   ]
  },
  {
   "cell_type": "code",
   "execution_count": 14,
   "id": "20338425-d6bd-49b8-a984-702b7ed0039d",
   "metadata": {},
   "outputs": [
    {
     "data": {
      "text/plain": [
       "32"
      ]
     },
     "execution_count": 14,
     "metadata": {},
     "output_type": "execute_result"
    }
   ],
   "source": [
    "2**5"
   ]
  },
  {
   "cell_type": "code",
   "execution_count": 15,
   "id": "75784659-b126-49e9-8f6d-c1fe9133e200",
   "metadata": {},
   "outputs": [
    {
     "data": {
      "text/plain": [
       "161051"
      ]
     },
     "execution_count": 15,
     "metadata": {},
     "output_type": "execute_result"
    }
   ],
   "source": [
    "a**b"
   ]
  },
  {
   "cell_type": "code",
   "execution_count": 16,
   "id": "f13b7ed4-856e-451b-a80b-a368bf8082fa",
   "metadata": {},
   "outputs": [
    {
     "data": {
      "text/plain": [
       "1"
      ]
     },
     "execution_count": 16,
     "metadata": {},
     "output_type": "execute_result"
    }
   ],
   "source": [
    "a%b"
   ]
  },
  {
   "cell_type": "code",
   "execution_count": 17,
   "id": "ab15b725-aae2-42cd-b8e6-e99cf65c1c15",
   "metadata": {},
   "outputs": [],
   "source": [
    "a = 45"
   ]
  },
  {
   "cell_type": "code",
   "execution_count": 18,
   "id": "cf390b2c-cd59-4759-a8b4-1aaa263e8b6f",
   "metadata": {},
   "outputs": [],
   "source": [
    "b = 4"
   ]
  },
  {
   "cell_type": "code",
   "execution_count": 19,
   "id": "42774982-922f-4a6b-bd16-452911860758",
   "metadata": {},
   "outputs": [
    {
     "data": {
      "text/plain": [
       "False"
      ]
     },
     "execution_count": 19,
     "metadata": {},
     "output_type": "execute_result"
    }
   ],
   "source": [
    "a<b"
   ]
  },
  {
   "cell_type": "code",
   "execution_count": 20,
   "id": "a7afc410-e33b-49c2-8b42-1e7c03bfab2a",
   "metadata": {},
   "outputs": [
    {
     "data": {
      "text/plain": [
       "True"
      ]
     },
     "execution_count": 20,
     "metadata": {},
     "output_type": "execute_result"
    }
   ],
   "source": [
    "a>b"
   ]
  },
  {
   "cell_type": "code",
   "execution_count": 21,
   "id": "6116e582-218b-4552-9a68-4a888a9cd1ae",
   "metadata": {},
   "outputs": [
    {
     "data": {
      "text/plain": [
       "True"
      ]
     },
     "execution_count": 21,
     "metadata": {},
     "output_type": "execute_result"
    }
   ],
   "source": [
    "a>=b"
   ]
  },
  {
   "cell_type": "code",
   "execution_count": 22,
   "id": "78746514-033c-441f-8ff5-0be12f10d5dd",
   "metadata": {},
   "outputs": [],
   "source": [
    "c = 3"
   ]
  },
  {
   "cell_type": "code",
   "execution_count": 24,
   "id": "7db06275-f7a6-4913-b40f-7deb00e03049",
   "metadata": {},
   "outputs": [
    {
     "data": {
      "text/plain": [
       "False"
      ]
     },
     "execution_count": 24,
     "metadata": {},
     "output_type": "execute_result"
    }
   ],
   "source": [
    "a == c # is a equal to c?"
   ]
  },
  {
   "cell_type": "code",
   "execution_count": 25,
   "id": "6ef0b6c7-26e3-4b89-84e1-5abc5d6568d5",
   "metadata": {},
   "outputs": [
    {
     "data": {
      "text/plain": [
       "True"
      ]
     },
     "execution_count": 25,
     "metadata": {},
     "output_type": "execute_result"
    }
   ],
   "source": [
    "a != c"
   ]
  },
  {
   "cell_type": "code",
   "execution_count": 26,
   "id": "96be4240-faaf-45bb-af67-96022b231e05",
   "metadata": {},
   "outputs": [],
   "source": [
    "a = 5\n",
    "b = 5"
   ]
  },
  {
   "cell_type": "code",
   "execution_count": 27,
   "id": "8c286a2c-5ab2-4b13-a33c-de520e42b61f",
   "metadata": {},
   "outputs": [
    {
     "data": {
      "text/plain": [
       "True"
      ]
     },
     "execution_count": 27,
     "metadata": {},
     "output_type": "execute_result"
    }
   ],
   "source": [
    "a == b"
   ]
  },
  {
   "cell_type": "code",
   "execution_count": 28,
   "id": "4745ef64-3bc6-4650-a9ef-87d444455629",
   "metadata": {},
   "outputs": [
    {
     "data": {
      "text/plain": [
       "True"
      ]
     },
     "execution_count": 28,
     "metadata": {},
     "output_type": "execute_result"
    }
   ],
   "source": [
    "a>=b"
   ]
  },
  {
   "cell_type": "code",
   "execution_count": 29,
   "id": "65915360-2901-40f8-8366-bbb5c161d483",
   "metadata": {},
   "outputs": [
    {
     "data": {
      "text/plain": [
       "True"
      ]
     },
     "execution_count": 29,
     "metadata": {},
     "output_type": "execute_result"
    }
   ],
   "source": [
    "a<=b"
   ]
  },
  {
   "cell_type": "code",
   "execution_count": 30,
   "id": "17f923ec-c55d-4c13-a840-ec00fa421573",
   "metadata": {},
   "outputs": [],
   "source": [
    "b1 = True\n",
    "b2 = False"
   ]
  },
  {
   "cell_type": "code",
   "execution_count": 32,
   "id": "93b4cdd8-b5ed-4709-927f-e942c669b847",
   "metadata": {},
   "outputs": [
    {
     "data": {
      "text/plain": [
       "False"
      ]
     },
     "execution_count": 32,
     "metadata": {},
     "output_type": "execute_result"
    }
   ],
   "source": [
    "not(b1)"
   ]
  },
  {
   "cell_type": "code",
   "execution_count": 33,
   "id": "438c3ee2-b874-4648-ad4a-58a2cc307180",
   "metadata": {},
   "outputs": [
    {
     "data": {
      "text/plain": [
       "True"
      ]
     },
     "execution_count": 33,
     "metadata": {},
     "output_type": "execute_result"
    }
   ],
   "source": [
    "not(b2)"
   ]
  },
  {
   "cell_type": "code",
   "execution_count": 34,
   "id": "e4eb3fe1-7e4b-4874-ad83-fdbcf3ee911c",
   "metadata": {},
   "outputs": [
    {
     "data": {
      "text/plain": [
       "True"
      ]
     },
     "execution_count": 34,
     "metadata": {},
     "output_type": "execute_result"
    }
   ],
   "source": [
    "b1 or b2"
   ]
  },
  {
   "cell_type": "code",
   "execution_count": 35,
   "id": "1fbf1b76-0609-459d-8963-3b5ac1e7afe4",
   "metadata": {},
   "outputs": [
    {
     "data": {
      "text/plain": [
       "False"
      ]
     },
     "execution_count": 35,
     "metadata": {},
     "output_type": "execute_result"
    }
   ],
   "source": [
    "b1 and b2"
   ]
  },
  {
   "cell_type": "code",
   "execution_count": 39,
   "id": "3913856d-029f-40c4-a8c5-209c2f2fc0e5",
   "metadata": {},
   "outputs": [],
   "source": [
    "a = 45"
   ]
  },
  {
   "cell_type": "code",
   "execution_count": 42,
   "id": "b0c63043-71e3-43cc-bff2-3385fe24104a",
   "metadata": {},
   "outputs": [],
   "source": [
    "a -=4"
   ]
  },
  {
   "cell_type": "code",
   "execution_count": 43,
   "id": "6d470823-73a4-4e21-b974-d9e649aaf2fc",
   "metadata": {},
   "outputs": [
    {
     "data": {
      "text/plain": [
       "37"
      ]
     },
     "execution_count": 43,
     "metadata": {},
     "output_type": "execute_result"
    }
   ],
   "source": [
    "a"
   ]
  },
  {
   "cell_type": "code",
   "execution_count": 45,
   "id": "88748f8a-3642-4123-828e-c2fa0e760be7",
   "metadata": {},
   "outputs": [
    {
     "data": {
      "text/plain": [
       "5"
      ]
     },
     "execution_count": 45,
     "metadata": {},
     "output_type": "execute_result"
    }
   ],
   "source": [
    "11//2"
   ]
  },
  {
   "cell_type": "code",
   "execution_count": 46,
   "id": "490a02a8-11db-4c42-8f3f-b5e1bd894c5d",
   "metadata": {},
   "outputs": [],
   "source": [
    "a = 11"
   ]
  },
  {
   "cell_type": "code",
   "execution_count": 47,
   "id": "a3a75f42-09ac-40c1-8684-2e65759b9163",
   "metadata": {},
   "outputs": [],
   "source": [
    "a //=2"
   ]
  },
  {
   "cell_type": "code",
   "execution_count": 48,
   "id": "d357c4f9-259d-43e2-b8a2-100d21f9d187",
   "metadata": {},
   "outputs": [
    {
     "data": {
      "text/plain": [
       "5"
      ]
     },
     "execution_count": 48,
     "metadata": {},
     "output_type": "execute_result"
    }
   ],
   "source": [
    "a"
   ]
  },
  {
   "cell_type": "code",
   "execution_count": null,
   "id": "4188b670-9b22-4efc-91cc-243a7e92c37a",
   "metadata": {},
   "outputs": [],
   "source": []
  }
 ],
 "metadata": {
  "kernelspec": {
   "display_name": "Python [conda env:base] *",
   "language": "python",
   "name": "conda-base-py"
  },
  "language_info": {
   "codemirror_mode": {
    "name": "ipython",
    "version": 3
   },
   "file_extension": ".py",
   "mimetype": "text/x-python",
   "name": "python",
   "nbconvert_exporter": "python",
   "pygments_lexer": "ipython3",
   "version": "3.12.7"
  }
 },
 "nbformat": 4,
 "nbformat_minor": 5
}
