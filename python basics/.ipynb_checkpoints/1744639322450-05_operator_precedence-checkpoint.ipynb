{
 "cells": [
  {
   "cell_type": "markdown",
   "id": "bed55687-c9aa-47cd-b114-8ccf5ae8ba7a",
   "metadata": {},
   "source": [
    "# Operator Precedence in Python\n",
    "Python follows **PEMDAS** (Parentheses, Exponents, Multiplication/Division, Addition/Subtraction). The order of operations in Python is:\n",
    "\n",
    "1. **Parentheses `()`** – Highest precedence, operations inside parentheses are evaluated first.\n",
    "2. **Exponents `**`** – Power calculations (e.g., `2 ** 3` → 8).\n",
    "3. **Multiplication `*`, Division `/`, Floor Division `//`, Modulus `%`** – Evaluated from left to right.\n",
    "4. **Addition `+`, Subtraction `-`** – Evaluated from left to right.\n",
    "\n",
    "### Example:\n",
    "```python\n",
    "result = 10 + 2 * 3  # Multiplication happens first: 10 + (2 * 3) = 16\n",
    "print(result)\n",
    "\n",
    "result = (10 + 2) * 3  # Parentheses first: (10 + 2) * 3 = 36\n",
    "print(result)\n",
    "\n",
    "result = 2 ** 3 ** 2  # Right-to-left exponentiation: 2 ** (3 ** 2) = 2 ** 9 = 512\n",
    "print(result)\n",
    "```\n",
    " "
   ]
  },
  {
   "cell_type": "code",
   "execution_count": 1,
   "id": "34dd96ad-5c11-4d15-af10-7ca79053c13e",
   "metadata": {},
   "outputs": [],
   "source": [
    "result = 10 + 2 * 3"
   ]
  },
  {
   "cell_type": "code",
   "execution_count": 2,
   "id": "da47d92b-7464-42d3-99fb-bffcd622bd2e",
   "metadata": {},
   "outputs": [
    {
     "data": {
      "text/plain": [
       "16"
      ]
     },
     "execution_count": 2,
     "metadata": {},
     "output_type": "execute_result"
    }
   ],
   "source": [
    "result"
   ]
  },
  {
   "cell_type": "code",
   "execution_count": 3,
   "id": "3dc049c2-1fd8-4845-9920-6650cd2a81f4",
   "metadata": {},
   "outputs": [
    {
     "data": {
      "text/plain": [
       "-20.956521739130434"
      ]
     },
     "execution_count": 3,
     "metadata": {},
     "output_type": "execute_result"
    }
   ],
   "source": [
    "54*3/23+4-2**5"
   ]
  },
  {
   "cell_type": "code",
   "execution_count": 4,
   "id": "a2f0ef6a-5746-4533-b3d4-d6d85e03707a",
   "metadata": {},
   "outputs": [
    {
     "data": {
      "text/plain": [
       "-20.956521739130434"
      ]
     },
     "execution_count": 4,
     "metadata": {},
     "output_type": "execute_result"
    }
   ],
   "source": [
    "54*3/23+4-32"
   ]
  },
  {
   "cell_type": "code",
   "execution_count": 6,
   "id": "81ec45b3-f4b5-4354-a37a-5344e3d940a9",
   "metadata": {},
   "outputs": [
    {
     "data": {
      "text/plain": [
       "-20.956521739130434"
      ]
     },
     "execution_count": 6,
     "metadata": {},
     "output_type": "execute_result"
    }
   ],
   "source": [
    "162/23+4-32"
   ]
  },
  {
   "cell_type": "code",
   "execution_count": 7,
   "id": "c80933f0-ba7d-4938-8902-7cd979a52191",
   "metadata": {},
   "outputs": [
    {
     "data": {
      "text/plain": [
       "-20.96"
      ]
     },
     "execution_count": 7,
     "metadata": {},
     "output_type": "execute_result"
    }
   ],
   "source": [
    "7.04+4-32"
   ]
  },
  {
   "cell_type": "markdown",
   "id": "0018b76b-8226-4d9d-b661-aa7ed0deb69d",
   "metadata": {},
   "source": [
    "### Order of Evaluation\n",
    "\n",
    "1. **Exponentiation (`**`) is evaluated right to left**.  \n",
    "   - Example:  \n",
    "     ```python\n",
    "     print(2 ** 3 ** 2)  # Output: 512\n",
    "     ```\n",
    "     This is evaluated as `2 ** (3 ** 2)`, meaning `2 ** 9 = 512`.\n",
    "\n",
    "2. **Multiplication (`*`), division (`/`), floor division (`//`), and modulo (`%`) are evaluated left to right**.  \n",
    "   - Example:  \n",
    "     ```python\n",
    "     print(16 / 4 * 2)  # Output: 8.0\n",
    "     ```\n",
    "     This is evaluated as `(16 / 4) * 2 = 4.0 * 2 = 8.0`.\n",
    "\n",
    "### Operator Precedence Summary:\n",
    "- `**` (Exponentiation) has the **highest precedence** and is evaluated **right to left**.\n",
    "- `*`, `/`, `//`, and `%` have lower precedence than `**` but are evaluated **left to right**.\n",
    " "
   ]
  },
  {
   "cell_type": "code",
   "execution_count": null,
   "id": "280c6525-0e81-4986-8a67-0cf3e4c07a6e",
   "metadata": {},
   "outputs": [],
   "source": []
  }
 ],
 "metadata": {
  "kernelspec": {
   "display_name": "Python 3 (ipykernel)",
   "language": "python",
   "name": "python3"
  },
  "language_info": {
   "codemirror_mode": {
    "name": "ipython",
    "version": 3
   },
   "file_extension": ".py",
   "mimetype": "text/x-python",
   "name": "python",
   "nbconvert_exporter": "python",
   "pygments_lexer": "ipython3",
   "version": "3.13.5"
  }
 },
 "nbformat": 4,
 "nbformat_minor": 5
}
