{
 "cells": [
  {
   "cell_type": "markdown",
   "id": "09047855-8946-4a31-929a-531a63303a37",
   "metadata": {},
   "source": [
    "# Taking input from the user"
   ]
  },
  {
   "cell_type": "code",
   "execution_count": 13,
   "id": "f883f732-8184-4359-9611-dc05dfbdb705",
   "metadata": {},
   "outputs": [
    {
     "name": "stdin",
     "output_type": "stream",
     "text": [
      "Enter the value of a 45\n"
     ]
    }
   ],
   "source": [
    "a = input(\"Enter the value of a\") # By default it takes user input as string"
   ]
  },
  {
   "cell_type": "code",
   "execution_count": 14,
   "id": "6350f2c6-06fb-4bb5-bc1c-3abf3f7cbdde",
   "metadata": {},
   "outputs": [
    {
     "data": {
      "text/plain": [
       "'45'"
      ]
     },
     "execution_count": 14,
     "metadata": {},
     "output_type": "execute_result"
    }
   ],
   "source": [
    "a"
   ]
  },
  {
   "cell_type": "code",
   "execution_count": 25,
   "id": "7ef71acb-ab9e-495a-ba91-9c1ee953b97e",
   "metadata": {},
   "outputs": [
    {
     "name": "stdin",
     "output_type": "stream",
     "text": [
      "Enter the value of b 67\n"
     ]
    }
   ],
   "source": [
    "b = input(\"Enter the value of b\")"
   ]
  },
  {
   "cell_type": "code",
   "execution_count": 19,
   "id": "c7a9c361-5673-4977-9471-a14ba0c0594d",
   "metadata": {},
   "outputs": [
    {
     "data": {
      "text/plain": [
       "'6'"
      ]
     },
     "execution_count": 19,
     "metadata": {},
     "output_type": "execute_result"
    }
   ],
   "source": [
    "b"
   ]
  },
  {
   "cell_type": "code",
   "execution_count": 20,
   "id": "8d0d3ff3-da5e-450b-a06e-f19d0c5db5ed",
   "metadata": {},
   "outputs": [
    {
     "data": {
      "text/plain": [
       "'456'"
      ]
     },
     "execution_count": 20,
     "metadata": {},
     "output_type": "execute_result"
    }
   ],
   "source": [
    "a + b"
   ]
  },
  {
   "cell_type": "code",
   "execution_count": 22,
   "id": "918c1941-b897-4ef9-9e12-8223ddff375d",
   "metadata": {},
   "outputs": [
    {
     "data": {
      "text/plain": [
       "51"
      ]
     },
     "execution_count": 22,
     "metadata": {},
     "output_type": "execute_result"
    }
   ],
   "source": [
    "int(a) + int(b)"
   ]
  },
  {
   "cell_type": "code",
   "execution_count": 26,
   "id": "5017eed5-11ac-4167-b571-db89e73b3b79",
   "metadata": {},
   "outputs": [
    {
     "name": "stdin",
     "output_type": "stream",
     "text": [
      " 45\n"
     ]
    }
   ],
   "source": [
    "c = input()"
   ]
  },
  {
   "cell_type": "code",
   "execution_count": 24,
   "id": "43bd1ae6-cd4e-44bf-b9bc-cc031a99718c",
   "metadata": {},
   "outputs": [
    {
     "data": {
      "text/plain": [
       "'67'"
      ]
     },
     "execution_count": 24,
     "metadata": {},
     "output_type": "execute_result"
    }
   ],
   "source": [
    "c"
   ]
  },
  {
   "cell_type": "code",
   "execution_count": 1,
   "id": "e4e47305-cd9f-4193-bb51-e957111cef5d",
   "metadata": {},
   "outputs": [
    {
     "name": "stdin",
     "output_type": "stream",
     "text": [
      "Enter the no.  98\n"
     ]
    }
   ],
   "source": [
    "b = int ( input (\"Enter the no. \"))"
   ]
  },
  {
   "cell_type": "code",
   "execution_count": 2,
   "id": "8d7db37a-1646-4173-af49-0916e9ffa852",
   "metadata": {},
   "outputs": [
    {
     "name": "stdout",
     "output_type": "stream",
     "text": [
      "98\n"
     ]
    }
   ],
   "source": [
    "print (b)"
   ]
  },
  {
   "cell_type": "code",
   "execution_count": null,
   "id": "7f914c9d-5d08-414b-86a2-28fdef1f0ff6",
   "metadata": {},
   "outputs": [],
   "source": []
  }
 ],
 "metadata": {
  "kernelspec": {
   "display_name": "Python 3 (ipykernel)",
   "language": "python",
   "name": "python3"
  },
  "language_info": {
   "codemirror_mode": {
    "name": "ipython",
    "version": 3
   },
   "file_extension": ".py",
   "mimetype": "text/x-python",
   "name": "python",
   "nbconvert_exporter": "python",
   "pygments_lexer": "ipython3",
   "version": "3.13.5"
  }
 },
 "nbformat": 4,
 "nbformat_minor": 5
}
