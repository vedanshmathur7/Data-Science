{
 "cells": [
  {
   "cell_type": "code",
   "execution_count": 1,
   "id": "0cde97e7-cafc-4af8-85a2-e917ad795cd9",
   "metadata": {},
   "outputs": [],
   "source": [
    "a = 5"
   ]
  },
  {
   "cell_type": "code",
   "execution_count": 2,
   "id": "c0925999-ced2-4898-84e3-ff3d338a7799",
   "metadata": {},
   "outputs": [],
   "source": [
    "b = 32"
   ]
  },
  {
   "cell_type": "code",
   "execution_count": 3,
   "id": "8630e143-27bf-4833-918c-4c939244d63b",
   "metadata": {},
   "outputs": [
    {
     "data": {
      "text/plain": [
       "37"
      ]
     },
     "execution_count": 3,
     "metadata": {},
     "output_type": "execute_result"
    }
   ],
   "source": [
    "a + b"
   ]
  },
  {
   "cell_type": "code",
   "execution_count": 7,
   "id": "5c98a3cd-3c82-4d65-8e60-0dd8783ffbf0",
   "metadata": {},
   "outputs": [],
   "source": [
    "name = \"Harry\""
   ]
  },
  {
   "cell_type": "code",
   "execution_count": 11,
   "id": "1c8a7fe1-7ef3-4e2f-875f-f8cfc3155f65",
   "metadata": {},
   "outputs": [
    {
     "name": "stdout",
     "output_type": "stream",
     "text": [
      "Hello World\n"
     ]
    }
   ],
   "source": [
    "print(\"Hello World\") # This will print Hello World on the screen"
   ]
  },
  {
   "cell_type": "code",
   "execution_count": 13,
   "id": "a352a4a1-41d4-409a-af81-592f9e954208",
   "metadata": {},
   "outputs": [],
   "source": [
    "# this is a comment"
   ]
  },
  {
   "cell_type": "code",
   "execution_count": 15,
   "id": "175084df-74c1-49f2-a804-b0f89602ffa4",
   "metadata": {},
   "outputs": [
    {
     "name": "stdout",
     "output_type": "stream",
     "text": [
      "<class 'int'>\n"
     ]
    }
   ],
   "source": [
    "print(type(a))"
   ]
  },
  {
   "cell_type": "code",
   "execution_count": 16,
   "id": "1b27c22b-cba2-4638-a476-68be0cb91066",
   "metadata": {},
   "outputs": [
    {
     "name": "stdout",
     "output_type": "stream",
     "text": [
      "<class 'str'>\n"
     ]
    }
   ],
   "source": [
    "print(type(name))"
   ]
  },
  {
   "cell_type": "code",
   "execution_count": 17,
   "id": "868ae537-2377-4528-a9ed-6d42cfa468be",
   "metadata": {},
   "outputs": [
    {
     "data": {
      "text/plain": [
       "str"
      ]
     },
     "execution_count": 17,
     "metadata": {},
     "output_type": "execute_result"
    }
   ],
   "source": [
    "type(name)"
   ]
  },
  {
   "cell_type": "code",
   "execution_count": 18,
   "id": "04756414-eb95-4bdf-b45c-e8dbe00a6a6d",
   "metadata": {},
   "outputs": [],
   "source": [
    "a = \"4566\""
   ]
  },
  {
   "cell_type": "code",
   "execution_count": 19,
   "id": "7295a2ee-29c3-41d5-b63c-f1c7f6273fd6",
   "metadata": {},
   "outputs": [],
   "source": [
    "b = \"5677\"\n"
   ]
  },
  {
   "cell_type": "code",
   "execution_count": 20,
   "id": "e773c7bb-4efc-4352-afb3-01342fb4f2d6",
   "metadata": {},
   "outputs": [
    {
     "name": "stdout",
     "output_type": "stream",
     "text": [
      "45665677\n"
     ]
    }
   ],
   "source": [
    "print(a+b)"
   ]
  },
  {
   "cell_type": "code",
   "execution_count": 21,
   "id": "da8a8b99-38b7-4c92-94e0-0bd1860283e0",
   "metadata": {},
   "outputs": [
    {
     "data": {
      "text/plain": [
       "10243"
      ]
     },
     "execution_count": 21,
     "metadata": {},
     "output_type": "execute_result"
    }
   ],
   "source": [
    "int(a) + int(b) # Typecasting"
   ]
  },
  {
   "cell_type": "code",
   "execution_count": null,
   "id": "ad618e14-4a44-434d-92fa-9562f2d87e66",
   "metadata": {},
   "outputs": [],
   "source": []
  }
 ],
 "metadata": {
  "kernelspec": {
   "display_name": "Python [conda env:base] *",
   "language": "python",
   "name": "conda-base-py"
  },
  "language_info": {
   "codemirror_mode": {
    "name": "ipython",
    "version": 3
   },
   "file_extension": ".py",
   "mimetype": "text/x-python",
   "name": "python",
   "nbconvert_exporter": "python",
   "pygments_lexer": "ipython3",
   "version": "3.12.7"
  }
 },
 "nbformat": 4,
 "nbformat_minor": 5
}
