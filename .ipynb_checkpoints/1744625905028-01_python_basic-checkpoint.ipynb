{
  "cells": [
    {
      "cell_type": "code",
      "execution_count": null,
      "id": "0cde97e7-cafc-4af8-85a2-e917ad795cd9",
      "metadata": {
        "id": "0cde97e7-cafc-4af8-85a2-e917ad795cd9"
      },
      "outputs": [],
      "source": [
        "a = 5"
      ]
    },
    {
      "cell_type": "code",
      "execution_count": null,
      "id": "c0925999-ced2-4898-84e3-ff3d338a7799",
      "metadata": {
        "id": "c0925999-ced2-4898-84e3-ff3d338a7799"
      },
      "outputs": [],
      "source": [
        "b = 32"
      ]
    },
    {
      "cell_type": "code",
      "execution_count": null,
      "id": "8630e143-27bf-4833-918c-4c939244d63b",
      "metadata": {
        "id": "8630e143-27bf-4833-918c-4c939244d63b",
        "outputId": "020a8eda-b927-48a2-eab1-e5dcb1cd5f83"
      },
      "outputs": [
        {
          "data": {
            "text/plain": [
              "37"
            ]
          },
          "execution_count": 3,
          "metadata": {},
          "output_type": "execute_result"
        }
      ],
      "source": [
        "a + b"
      ]
    },
    {
      "cell_type": "code",
      "execution_count": null,
      "id": "5c98a3cd-3c82-4d65-8e60-0dd8783ffbf0",
      "metadata": {
        "id": "5c98a3cd-3c82-4d65-8e60-0dd8783ffbf0"
      },
      "outputs": [],
      "source": [
        "name = \"Harry\""
      ]
    },
    {
      "cell_type": "code",
      "execution_count": null,
      "id": "1c8a7fe1-7ef3-4e2f-875f-f8cfc3155f65",
      "metadata": {
        "id": "1c8a7fe1-7ef3-4e2f-875f-f8cfc3155f65",
        "outputId": "da995473-a303-48b7-e2c2-af4d0bb7c640"
      },
      "outputs": [
        {
          "name": "stdout",
          "output_type": "stream",
          "text": [
            "Hello World\n"
          ]
        }
      ],
      "source": [
        "print(\"Hello World\") # This will print Hello World on the screen"
      ]
    },
    {
      "cell_type": "code",
      "execution_count": null,
      "id": "a352a4a1-41d4-409a-af81-592f9e954208",
      "metadata": {
        "id": "a352a4a1-41d4-409a-af81-592f9e954208"
      },
      "outputs": [],
      "source": [
        "# this is a comment"
      ]
    },
    {
      "cell_type": "code",
      "execution_count": null,
      "id": "175084df-74c1-49f2-a804-b0f89602ffa4",
      "metadata": {
        "id": "175084df-74c1-49f2-a804-b0f89602ffa4",
        "outputId": "704e8828-2578-4c96-af72-8071702efb57"
      },
      "outputs": [
        {
          "name": "stdout",
          "output_type": "stream",
          "text": [
            "<class 'int'>\n"
          ]
        }
      ],
      "source": [
        "print(type(a))"
      ]
    },
    {
      "cell_type": "code",
      "execution_count": null,
      "id": "1b27c22b-cba2-4638-a476-68be0cb91066",
      "metadata": {
        "id": "1b27c22b-cba2-4638-a476-68be0cb91066",
        "outputId": "783a5ffd-2475-4e55-f844-261f62b557ae"
      },
      "outputs": [
        {
          "name": "stdout",
          "output_type": "stream",
          "text": [
            "<class 'str'>\n"
          ]
        }
      ],
      "source": [
        "print(type(name))"
      ]
    },
    {
      "cell_type": "code",
      "execution_count": null,
      "id": "868ae537-2377-4528-a9ed-6d42cfa468be",
      "metadata": {
        "id": "868ae537-2377-4528-a9ed-6d42cfa468be",
        "outputId": "45f2f93e-2c97-43bb-d709-f9a05ac0a080"
      },
      "outputs": [
        {
          "data": {
            "text/plain": [
              "str"
            ]
          },
          "execution_count": 17,
          "metadata": {},
          "output_type": "execute_result"
        }
      ],
      "source": [
        "type(name)"
      ]
    },
    {
      "cell_type": "code",
      "execution_count": null,
      "id": "04756414-eb95-4bdf-b45c-e8dbe00a6a6d",
      "metadata": {
        "id": "04756414-eb95-4bdf-b45c-e8dbe00a6a6d"
      },
      "outputs": [],
      "source": [
        "a = \"4566\""
      ]
    },
    {
      "cell_type": "code",
      "execution_count": null,
      "id": "7295a2ee-29c3-41d5-b63c-f1c7f6273fd6",
      "metadata": {
        "id": "7295a2ee-29c3-41d5-b63c-f1c7f6273fd6"
      },
      "outputs": [],
      "source": [
        "b = \"5677\"\n"
      ]
    },
    {
      "cell_type": "code",
      "execution_count": null,
      "id": "e773c7bb-4efc-4352-afb3-01342fb4f2d6",
      "metadata": {
        "id": "e773c7bb-4efc-4352-afb3-01342fb4f2d6",
        "outputId": "54b80b78-e4d1-431e-b417-bdd7262eaaa2"
      },
      "outputs": [
        {
          "name": "stdout",
          "output_type": "stream",
          "text": [
            "45665677\n"
          ]
        }
      ],
      "source": [
        "print(a+b)"
      ]
    },
    {
      "cell_type": "code",
      "execution_count": null,
      "id": "da8a8b99-38b7-4c92-94e0-0bd1860283e0",
      "metadata": {
        "id": "da8a8b99-38b7-4c92-94e0-0bd1860283e0",
        "outputId": "31ecf478-12bd-4476-cb29-edb29177fbfa"
      },
      "outputs": [
        {
          "data": {
            "text/plain": [
              "10243"
            ]
          },
          "execution_count": 21,
          "metadata": {},
          "output_type": "execute_result"
        }
      ],
      "source": [
        "int(a) + int(b) # Typecasting"
      ]
    },
    {
      "cell_type": "code",
      "execution_count": 1,
      "id": "ad618e14-4a44-434d-92fa-9562f2d87e66",
      "metadata": {
        "id": "ad618e14-4a44-434d-92fa-9562f2d87e66",
        "outputId": "7c4f65ee-5f4a-462a-fa22-5730de1bcb60",
        "colab": {
          "base_uri": "https://localhost:8080/"
        }
      },
      "outputs": [
        {
          "output_type": "stream",
          "name": "stdout",
          "text": [
            "vedansh\n"
          ]
        }
      ],
      "source": [
        "print ('vedansh')"
      ]
    },
    {
      "cell_type": "code",
      "source": [],
      "metadata": {
        "id": "2fkWMKnPakUX"
      },
      "id": "2fkWMKnPakUX",
      "execution_count": null,
      "outputs": []
    }
  ],
  "metadata": {
    "kernelspec": {
      "display_name": "Python 3",
      "name": "python3"
    },
    "language_info": {
      "name": "python"
    },
    "colab": {
      "provenance": []
    }
  },
  "nbformat": 4,
  "nbformat_minor": 5
}